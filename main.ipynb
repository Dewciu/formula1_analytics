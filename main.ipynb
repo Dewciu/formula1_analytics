{
 "cells": [
  {
   "cell_type": "code",
   "execution_count": null,
   "metadata": {},
   "outputs": [],
   "source": [
    "from formula1_analytics.common.data_loader import DataLoader\n",
    "from formula1_analytics.config.config import CONSTRUCTORS_FILENAME\n",
    "from formula1_analytics.common.index_manager import IndexManager\n",
    "\n",
    "data = DataLoader().load_data(CONSTRUCTORS_FILENAME)\n",
    "display(IndexManager.id_to_index(data, \"constructorId\"))"
   ]
  },
  {
   "cell_type": "markdown",
   "metadata": {},
   "source": []
  },
  {
   "cell_type": "code",
   "execution_count": null,
   "metadata": {},
   "outputs": [],
   "source": [
    "from formula1_analytics.drivers.drivers import Drivers\n",
    "from formula1_analytics.drivers.most_successful import MostSuccessful\n",
    "\n",
    "ms = MostSuccessful()\n",
    "\n",
    "display(ms._sort_by_wins())"
   ]
  }
 ],
 "metadata": {
  "kernelspec": {
   "display_name": ".venv",
   "language": "python",
   "name": "python3"
  },
  "language_info": {
   "codemirror_mode": {
    "name": "ipython",
    "version": 3
   },
   "file_extension": ".py",
   "mimetype": "text/x-python",
   "name": "python",
   "nbconvert_exporter": "python",
   "pygments_lexer": "ipython3",
   "version": "3.10.5"
  }
 },
 "nbformat": 4,
 "nbformat_minor": 2
}
